{
 "cells": [
  {
   "cell_type": "code",
   "execution_count": 19,
   "id": "c520c769-71dc-4524-b4b7-02fe40e63064",
   "metadata": {},
   "outputs": [],
   "source": [
    "import snscrape.modules.twitter as sntwitter\n",
    "import pandas as pd"
   ]
  },
  {
   "cell_type": "code",
   "execution_count": 20,
   "id": "d9f7f22e-fef8-4027-af0a-71a2b755d2e5",
   "metadata": {},
   "outputs": [],
   "source": [
    "pd.options.display.max_colwidth = 500"
   ]
  },
  {
   "cell_type": "code",
   "execution_count": 63,
   "id": "45b7bbd7-a1c7-4032-a655-509030e9432b",
   "metadata": {},
   "outputs": [
    {
     "name": "stdout",
     "output_type": "stream",
     "text": [
      "Wall time: 0 ns\n",
      "Start crawling\n"
     ]
    }
   ],
   "source": [
    "query = \"(from:jokowi)\" #https://twitter.com/search-advanced\n",
    "tweets = []\n",
    "limit = 1000\n",
    "%time\n",
    "try:\n",
    "    print(\"Start crawling\")\n",
    "    for tweet in sntwitter.TwitterSearchScraper(query=query).get_items():\n",
    "        if len(tweets) == limit:\n",
    "            break\n",
    "        else:\n",
    "            tweets.append([tweet.date, tweet.user.username, tweet.content])\n",
    "    df = pd.DataFrame(tweets, columns=['datetime', 'username', 'content'])\n",
    "except Exception as e:\n",
    "    print(e)\n",
    "    print(\"finished\")\n",
    "    print(\"--------\")\n",
    "    \n",
    "df.to_csv('raw.tweets_2.csv', index=False)"
   ]
  },
  {
   "cell_type": "code",
   "execution_count": 65,
   "id": "9312080d-5d77-461e-8e9d-7a311ef23c79",
   "metadata": {},
   "outputs": [
    {
     "data": {
      "text/html": [
       "<div>\n",
       "<style scoped>\n",
       "    .dataframe tbody tr th:only-of-type {\n",
       "        vertical-align: middle;\n",
       "    }\n",
       "\n",
       "    .dataframe tbody tr th {\n",
       "        vertical-align: top;\n",
       "    }\n",
       "\n",
       "    .dataframe thead th {\n",
       "        text-align: right;\n",
       "    }\n",
       "</style>\n",
       "<table border=\"1\" class=\"dataframe\">\n",
       "  <thead>\n",
       "    <tr style=\"text-align: right;\">\n",
       "      <th></th>\n",
       "      <th>datetime</th>\n",
       "      <th>username</th>\n",
       "      <th>content</th>\n",
       "    </tr>\n",
       "  </thead>\n",
       "  <tbody>\n",
       "    <tr>\n",
       "      <th>0</th>\n",
       "      <td>2022-09-15 12:14:04+00:00</td>\n",
       "      <td>jokowi</td>\n",
       "      <td>Bertemu para peternak kerbau Desa Werwaru di Pulau Moa, Kab. Maluku Barat Daya, siang tadi. Mereka mengeluhkan ketersediaan air di Pulau Moa yang membuat jumlah kerbau jadi jauh berkurang.\\n\\nSaat itu juga, saya memerintahkan Menteri PUPR untuk membangun satu embung di setiap desa. https://t.co/1GeYEayw4Y</td>\n",
       "    </tr>\n",
       "    <tr>\n",
       "      <th>1</th>\n",
       "      <td>2022-09-15 10:49:49+00:00</td>\n",
       "      <td>jokowi</td>\n",
       "      <td>Pasar Rakyat Kalwedo di Kabupaten Maluku Barat Daya, sore ini. Saya datang bersama Ibu Negara untuk meninjau sekaligus memberikan bantuan sosial kepada para penerima manfaat yang ada di pasar ini. https://t.co/tELORXS7ci</td>\n",
       "    </tr>\n",
       "    <tr>\n",
       "      <th>2</th>\n",
       "      <td>2022-09-15 09:56:14+00:00</td>\n",
       "      <td>jokowi</td>\n",
       "      <td>Termasuk dalam hal ini adalah pengamanan jalur-jalur laut kepulauan di Indonesia yang menjadi jalur bagi 60 persen perdagangan laut dunia.</td>\n",
       "    </tr>\n",
       "    <tr>\n",
       "      <th>3</th>\n",
       "      <td>2022-09-15 09:56:13+00:00</td>\n",
       "      <td>jokowi</td>\n",
       "      <td>Dari Pantai Tiakur di Maluku Barat Daya, Pulau Leti terlihat di seberang. Pulau Leti ini berbatasan dengan Timor Leste. \\n\\nMelihat Maluku Barat Daya, Maluku Tenggara, Kepulauan Aru, dll, terasa benar pentingnya desain pertahanan dan keamanan negara di titik-titik terluar NKRI. https://t.co/gEwMqS4Vdq</td>\n",
       "    </tr>\n",
       "    <tr>\n",
       "      <th>4</th>\n",
       "      <td>2022-09-15 06:05:41+00:00</td>\n",
       "      <td>jokowi</td>\n",
       "      <td>Sampai hari ini, pemerintah telah membagikan bantuan langsung tunai BBM kepada 8.179.000 orang di 461 kab./kota. \\n\\nPagi ini pun saya meninjau langsung penyerahan BLT BBM itu di Kantor Pos Dobo, Kepulauan Aru, Maluku. Semoga berdampak baik pada daya beli masyarakat. https://t.co/4HHPivjCrj</td>\n",
       "    </tr>\n",
       "    <tr>\n",
       "      <th>...</th>\n",
       "      <td>...</td>\n",
       "      <td>...</td>\n",
       "      <td>...</td>\n",
       "    </tr>\n",
       "    <tr>\n",
       "      <th>995</th>\n",
       "      <td>2021-11-19 02:13:00+00:00</td>\n",
       "      <td>jokowi</td>\n",
       "      <td>Pemerintah terus mendorong program hilirisasi industri dengan mengurangi ekspor bahan mentah. Kita ingin ada nilai tambah dan menciptakan lapangan kerja.\\n\\nSelain itu, pengintegrasian bahan mentah penting agar kita mampu membuat barang jadi dengan bahan mentah milik sendiri. https://t.co/mCSbFt5Slj</td>\n",
       "    </tr>\n",
       "    <tr>\n",
       "      <th>996</th>\n",
       "      <td>2021-11-19 01:54:05+00:00</td>\n",
       "      <td>jokowi</td>\n",
       "      <td>Pengendalian pandemi Covid-19 adalah kunci utama pertumbuhan ekonomi Indonesia di tahun 2022. \\n\\nSaat ini indeks keyakinan konsumen sudah kembali  pada posisi sebelum pandemi. Indeks penjualan ritel menguat, dan purchasing manager index manufacture sudah melampaui sebelum pandemi. https://t.co/HMtiiIFpsx</td>\n",
       "    </tr>\n",
       "    <tr>\n",
       "      <th>997</th>\n",
       "      <td>2021-11-18 07:58:10+00:00</td>\n",
       "      <td>jokowi</td>\n",
       "      <td>Sejak awal pandemi, Muhammadiyah bergerak cepat, mengerahkan seluruh potensinya, mengoptimalkan lebih dari 117 rumah sakit dan 63 perguruan tinggi Muhammadiyah dan Aisyiah untuk membantu masyarakat yang terpapar Covid-19.\\n\\nTerima kasih dan selamat Milad ke-109 Muhammadiyah. https://t.co/bYeKZORECS</td>\n",
       "    </tr>\n",
       "    <tr>\n",
       "      <th>998</th>\n",
       "      <td>2021-11-17 12:08:57+00:00</td>\n",
       "      <td>jokowi</td>\n",
       "      <td>Selamat bekerja Bapak Suharyanto sebagai Kepala Badan Nasional Penanggulangan Bencana (BNPB). https://t.co/N2E4lgCxFZ</td>\n",
       "    </tr>\n",
       "    <tr>\n",
       "      <th>999</th>\n",
       "      <td>2021-11-17 12:07:05+00:00</td>\n",
       "      <td>jokowi</td>\n",
       "      <td>Saya melantik 12 duta besar luar biasa dan berkuasa penuh untuk sejumlah negara sahabat di Istana Negara, hari ini. \\n\\nMereka akan bertugas di Italia, Ukraina, Kroasia, Portugal, Polandia, Tunisia, India, Bangladesh, Kanada, Austria, Korea, dan Tanzania. \\n\\nSelamat bekerja. https://t.co/aLR0en2UFt</td>\n",
       "    </tr>\n",
       "  </tbody>\n",
       "</table>\n",
       "<p>1000 rows × 3 columns</p>\n",
       "</div>"
      ],
      "text/plain": [
       "                     datetime username  \\\n",
       "0   2022-09-15 12:14:04+00:00   jokowi   \n",
       "1   2022-09-15 10:49:49+00:00   jokowi   \n",
       "2   2022-09-15 09:56:14+00:00   jokowi   \n",
       "3   2022-09-15 09:56:13+00:00   jokowi   \n",
       "4   2022-09-15 06:05:41+00:00   jokowi   \n",
       "..                        ...      ...   \n",
       "995 2021-11-19 02:13:00+00:00   jokowi   \n",
       "996 2021-11-19 01:54:05+00:00   jokowi   \n",
       "997 2021-11-18 07:58:10+00:00   jokowi   \n",
       "998 2021-11-17 12:08:57+00:00   jokowi   \n",
       "999 2021-11-17 12:07:05+00:00   jokowi   \n",
       "\n",
       "                                                                                                                                                                                                                                                                                                                content  \n",
       "0    Bertemu para peternak kerbau Desa Werwaru di Pulau Moa, Kab. Maluku Barat Daya, siang tadi. Mereka mengeluhkan ketersediaan air di Pulau Moa yang membuat jumlah kerbau jadi jauh berkurang.\\n\\nSaat itu juga, saya memerintahkan Menteri PUPR untuk membangun satu embung di setiap desa. https://t.co/1GeYEayw4Y  \n",
       "1                                                                                          Pasar Rakyat Kalwedo di Kabupaten Maluku Barat Daya, sore ini. Saya datang bersama Ibu Negara untuk meninjau sekaligus memberikan bantuan sosial kepada para penerima manfaat yang ada di pasar ini. https://t.co/tELORXS7ci  \n",
       "2                                                                                                                                                                            Termasuk dalam hal ini adalah pengamanan jalur-jalur laut kepulauan di Indonesia yang menjadi jalur bagi 60 persen perdagangan laut dunia.  \n",
       "3        Dari Pantai Tiakur di Maluku Barat Daya, Pulau Leti terlihat di seberang. Pulau Leti ini berbatasan dengan Timor Leste. \\n\\nMelihat Maluku Barat Daya, Maluku Tenggara, Kepulauan Aru, dll, terasa benar pentingnya desain pertahanan dan keamanan negara di titik-titik terluar NKRI. https://t.co/gEwMqS4Vdq  \n",
       "4                   Sampai hari ini, pemerintah telah membagikan bantuan langsung tunai BBM kepada 8.179.000 orang di 461 kab./kota. \\n\\nPagi ini pun saya meninjau langsung penyerahan BLT BBM itu di Kantor Pos Dobo, Kepulauan Aru, Maluku. Semoga berdampak baik pada daya beli masyarakat. https://t.co/4HHPivjCrj  \n",
       "..                                                                                                                                                                                                                                                                                                                  ...  \n",
       "995        Pemerintah terus mendorong program hilirisasi industri dengan mengurangi ekspor bahan mentah. Kita ingin ada nilai tambah dan menciptakan lapangan kerja.\\n\\nSelain itu, pengintegrasian bahan mentah penting agar kita mampu membuat barang jadi dengan bahan mentah milik sendiri. https://t.co/mCSbFt5Slj  \n",
       "996  Pengendalian pandemi Covid-19 adalah kunci utama pertumbuhan ekonomi Indonesia di tahun 2022. \\n\\nSaat ini indeks keyakinan konsumen sudah kembali  pada posisi sebelum pandemi. Indeks penjualan ritel menguat, dan purchasing manager index manufacture sudah melampaui sebelum pandemi. https://t.co/HMtiiIFpsx  \n",
       "997        Sejak awal pandemi, Muhammadiyah bergerak cepat, mengerahkan seluruh potensinya, mengoptimalkan lebih dari 117 rumah sakit dan 63 perguruan tinggi Muhammadiyah dan Aisyiah untuk membantu masyarakat yang terpapar Covid-19.\\n\\nTerima kasih dan selamat Milad ke-109 Muhammadiyah. https://t.co/bYeKZORECS  \n",
       "998                                                                                                                                                                                               Selamat bekerja Bapak Suharyanto sebagai Kepala Badan Nasional Penanggulangan Bencana (BNPB). https://t.co/N2E4lgCxFZ  \n",
       "999        Saya melantik 12 duta besar luar biasa dan berkuasa penuh untuk sejumlah negara sahabat di Istana Negara, hari ini. \\n\\nMereka akan bertugas di Italia, Ukraina, Kroasia, Portugal, Polandia, Tunisia, India, Bangladesh, Kanada, Austria, Korea, dan Tanzania. \\n\\nSelamat bekerja. https://t.co/aLR0en2UFt  \n",
       "\n",
       "[1000 rows x 3 columns]"
      ]
     },
     "execution_count": 65,
     "metadata": {},
     "output_type": "execute_result"
    }
   ],
   "source": [
    "df"
   ]
  }
 ],
 "metadata": {
  "kernelspec": {
   "display_name": "Python 3 (ipykernel)",
   "language": "python",
   "name": "python3"
  },
  "language_info": {
   "codemirror_mode": {
    "name": "ipython",
    "version": 3
   },
   "file_extension": ".py",
   "mimetype": "text/x-python",
   "name": "python",
   "nbconvert_exporter": "python",
   "pygments_lexer": "ipython3",
   "version": "3.10.5"
  },
  "toc-autonumbering": false
 },
 "nbformat": 4,
 "nbformat_minor": 5
}
